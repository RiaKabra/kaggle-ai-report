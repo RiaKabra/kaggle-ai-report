{
 "cells": [
  {
   "cell_type": "markdown",
   "id": "4faf8336",
   "metadata": {
    "papermill": {
     "duration": 0.016108,
     "end_time": "2023-07-04T17:29:08.250074",
     "exception": false,
     "start_time": "2023-07-04T17:29:08.233966",
     "status": "completed"
    },
    "tags": []
   },
   "source": [
    "<h1><center><span style=\"color:blue\">Time Series Based Analysis and Forecasting </span></center></h1>"
   ]
  },
  {
   "cell_type": "markdown",
   "id": "11c8c0d6",
   "metadata": {
    "papermill": {
     "duration": 0.011671,
     "end_time": "2023-07-04T17:29:08.274110",
     "exception": false,
     "start_time": "2023-07-04T17:29:08.262439",
     "status": "completed"
    },
    "tags": []
   },
   "source": [
    "<h3> <span style=\"color:orange\">Table of Contents</span></h3>"
   ]
  },
  {
   "cell_type": "markdown",
   "id": "80e31c9d",
   "metadata": {
    "papermill": {
     "duration": 0.01176,
     "end_time": "2023-07-04T17:29:08.297944",
     "exception": false,
     "start_time": "2023-07-04T17:29:08.286184",
     "status": "completed"
    },
    "tags": []
   },
   "source": [
    "1. Introduction \n",
    "2. Libraries Used \n",
    "3. ARIMA Model Forecasting \n",
    "4. LSTM Model Forecasting \n",
    "5. Model Comparisons \n",
    "6. Conclusion \n",
    "7. Future Work\n",
    "8. References\n"
   ]
  },
  {
   "cell_type": "markdown",
   "id": "e5f58603",
   "metadata": {
    "papermill": {
     "duration": 0.011608,
     "end_time": "2023-07-04T17:29:08.321616",
     "exception": false,
     "start_time": "2023-07-04T17:29:08.310008",
     "status": "completed"
    },
    "tags": []
   },
   "source": [
    "<h3 align = \"center\"> Introduction </h3>"
   ]
  },
  {
   "cell_type": "markdown",
   "id": "c7accfad",
   "metadata": {
    "papermill": {
     "duration": 0.011647,
     "end_time": "2023-07-04T17:29:08.345395",
     "exception": false,
     "start_time": "2023-07-04T17:29:08.333748",
     "status": "completed"
    },
    "tags": []
   },
   "source": [
    "Functionally, time series is described as a set of random variables measured against time. In machine learning it can have various roles, such as, identifying the components of a trend and making predictions based on it. It represents a series of time-based orders. The unit of measurement could be as huge as a decade or as small as a second. It is considered to be an observation of the sequence of discrete time of successive intervals. \n",
    "\n",
    "<h3 align = \"center\"> Meaning of Time Series and Forecasting: </h3>\n",
    "\n",
    "‘Time Series’ describes our graphical output of the predictions made on the dataset. Forecasting means using statistics and modeling to generate predictions from our given dataset.\n",
    "<img src=\"https://www.springboard.com/blog/wp-content/uploads/2022/09/time-series-forecasting-overview.png\"  width=\"400\" height=\"400\" align = \"center\">\n",
    "\n",
    "\n",
    "\n",
    "\n",
    "\n",
    "\n",
    "<h3 align = \"center\"> History: </h3>\n",
    "\n",
    "Early machine learning in time series dates back to the mid 1900s. In 1969, researchers explored the idea of combining forecasts to enhance their performances and bring out the best models. \n",
    "In the late 1980s, machine learning enthusiasts proposed various new methods of utilizing this domain, some examples being:\n",
    " - Anomaly detection - to identify intrusions in a network\n",
    " - Dynamic time warping - used to measure the similarity of time series \n",
    " - Recursive neural networks - to extract useful patterns from corrupted data\n",
    " <img src=\" https://www.researchgate.net/profile/Mohsin-Munir/publication/333448095/figure/fig2/AS:763831148109829@1559122945986/Forecasting-and-anomaly-detection-results-of-FuseAD-on-the-TS11-time-series-from-the_W640.jpg\"  width=\"400\" height=\"400\" align = \"center\">\n",
    "\n",
    "\n",
    "\n",
    "<h3 align = \"center\"> Progress: </h3>\n",
    "\n",
    "Nowadays, Time Series and Forecasting is a part of almost every aspect of life. From economics to medicine, we observe it in almost every possible field. We have come up with several models, algorithms to discover the most accurate method for our projects. In our code, we have made the use of ARIMA (AutoRegressive Integrated Moving Average) and LSTM (Long Short-Term Memory)\n",
    " <img src=\"https://av-eks-blogoptimized.s3.amazonaws.com/39815Components%20of%20Time%20Series%20Analysis.png\"  width=\"400\" height=\"400\" align = \"center\">\n",
    "\n",
    "\n",
    "<h3 align = \"center\"> Our Project: </h3>\n",
    "\n",
    "- Topic: Number of estimated submissions per year\n",
    "\n",
    "- Dataset: https://www.kaggle.com/datasets/kaggle/meta-kaggle\n",
    "\n",
    "- Logic:\n",
    "Preprocess the Data Using EDA (Exploratory Data Analysis) , analyze the text , find the frequency of words and list them under top 10 most common words.\n",
    "Perform group by - competitions launch date vs count\n",
    "\n",
    "- Models Used:\n",
    "\n",
    "\n",
    "\n",
    "  - ARIMA\n",
    "\n",
    "A mathematical model that uses previous values to represent the time series values forms the basis of ARIMA. This concept is founded on two key components: \n",
    "\n",
    "Past Values: Past behavior is unquestionably a reliable indicator of future behavior. The only uncertainty is the appropriate number of historical values. The most recent p time series data are used as features in the model. In this case, p is a hyperparameter that must be chosen while creating the model.\n",
    "\n",
    "Past Mistakes: The model can benefit from the knowledge of its past performance levels. As a result, we include the model's most recent q mistakes as features. Q is a hyperparameter once more.   \n",
    "This situation calls for the time series to be standardized to make the model independent of seasonal or cyclical tendencies. To put it formally, we want the model to be trained on a stationary time series. In its most basic form, stationarity refers to the absence of change in the statistical characteristics of a process producing a time series.\n",
    "\n",
    "In our code, ARIMA is used to: \n",
    "- Change the datatype according to our model \n",
    "- Get the forecast by inserting this modified data\n",
    "- Plot the same to analyze our predicted results - actual vs forecast\n",
    "        \n",
    "\n",
    "  - LSTM \n",
    " \n",
    "The basic goal of LSTM cells is to remember the crucial portions of the sequence that have already been seen while forgetting the less crucial ones. This is accomplished by the so-called gates, or functions with various learning goals, such as, a concise description of the time series that has been observed thus far, together with information on how to mix new data with the series' historical representation and what information to ignore. \n",
    "\n",
    "In our code, LSTM is used to:\n",
    "\n",
    " - Prepare and normalize the data\n",
    " - Split into Test and Train sets\n",
    " - Prepare the training data and reshape it \n",
    " - Build the LSTM model\n",
    " - Train the model\n",
    " - Prepare the test data and perform predictions on it \n",
    " - Trim the data and predictions to the required length\n",
    " - Visualize the forecast"
   ]
  },
  {
   "cell_type": "markdown",
   "id": "c03377eb",
   "metadata": {
    "papermill": {
     "duration": 0.0119,
     "end_time": "2023-07-04T17:29:08.369385",
     "exception": false,
     "start_time": "2023-07-04T17:29:08.357485",
     "status": "completed"
    },
    "tags": []
   },
   "source": [
    "Import the necessary library - nltk\n",
    "\n",
    "- download stopwords - for list of common stop words\n",
    "\n",
    "- download punkt - for tokenizing text into words or sentences\n",
    "\n",
    "- download vader_lexicon - for lexicon to utilize in sentiment analysis"
   ]
  },
  {
   "cell_type": "code",
   "execution_count": 1,
   "id": "df576668",
   "metadata": {
    "execution": {
     "iopub.execute_input": "2023-07-04T17:29:08.396655Z",
     "iopub.status.busy": "2023-07-04T17:29:08.395432Z",
     "iopub.status.idle": "2023-07-04T17:29:10.773622Z",
     "shell.execute_reply": "2023-07-04T17:29:10.772393Z"
    },
    "papermill": {
     "duration": 2.395275,
     "end_time": "2023-07-04T17:29:10.776696",
     "exception": false,
     "start_time": "2023-07-04T17:29:08.381421",
     "status": "completed"
    },
    "scrolled": true,
    "tags": []
   },
   "outputs": [
    {
     "name": "stdout",
     "output_type": "stream",
     "text": [
      "[nltk_data] Downloading package stopwords to /usr/share/nltk_data...\n",
      "[nltk_data]   Package stopwords is already up-to-date!\n"
     ]
    },
    {
     "data": {
      "text/plain": [
       "True"
      ]
     },
     "execution_count": 1,
     "metadata": {},
     "output_type": "execute_result"
    }
   ],
   "source": [
    "import nltk\n",
    "nltk.download('stopwords')"
   ]
  },
  {
   "cell_type": "code",
   "execution_count": 2,
   "id": "914d38d3",
   "metadata": {
    "execution": {
     "iopub.execute_input": "2023-07-04T17:29:10.804516Z",
     "iopub.status.busy": "2023-07-04T17:29:10.804073Z",
     "iopub.status.idle": "2023-07-04T17:29:10.906806Z",
     "shell.execute_reply": "2023-07-04T17:29:10.905740Z"
    },
    "papermill": {
     "duration": 0.1199,
     "end_time": "2023-07-04T17:29:10.909741",
     "exception": false,
     "start_time": "2023-07-04T17:29:10.789841",
     "status": "completed"
    },
    "tags": []
   },
   "outputs": [
    {
     "name": "stdout",
     "output_type": "stream",
     "text": [
      "[nltk_data] Downloading package punkt to /usr/share/nltk_data...\n",
      "[nltk_data]   Package punkt is already up-to-date!\n"
     ]
    },
    {
     "data": {
      "text/plain": [
       "True"
      ]
     },
     "execution_count": 2,
     "metadata": {},
     "output_type": "execute_result"
    }
   ],
   "source": [
    "nltk.download('punkt')"
   ]
  },
  {
   "cell_type": "code",
   "execution_count": 3,
   "id": "11379586",
   "metadata": {
    "execution": {
     "iopub.execute_input": "2023-07-04T17:29:10.937420Z",
     "iopub.status.busy": "2023-07-04T17:29:10.936990Z",
     "iopub.status.idle": "2023-07-04T17:29:10.947513Z",
     "shell.execute_reply": "2023-07-04T17:29:10.946544Z"
    },
    "papermill": {
     "duration": 0.026995,
     "end_time": "2023-07-04T17:29:10.950017",
     "exception": false,
     "start_time": "2023-07-04T17:29:10.923022",
     "status": "completed"
    },
    "tags": []
   },
   "outputs": [
    {
     "name": "stdout",
     "output_type": "stream",
     "text": [
      "[nltk_data] Downloading package vader_lexicon to\n",
      "[nltk_data]     /usr/share/nltk_data...\n",
      "[nltk_data]   Package vader_lexicon is already up-to-date!\n"
     ]
    },
    {
     "data": {
      "text/plain": [
       "True"
      ]
     },
     "execution_count": 3,
     "metadata": {},
     "output_type": "execute_result"
    }
   ],
   "source": [
    "nltk.download('vader_lexicon')"
   ]
  },
  {
   "cell_type": "markdown",
   "id": "48cb4224",
   "metadata": {
    "papermill": {
     "duration": 0.012431,
     "end_time": "2023-07-04T17:29:10.975540",
     "exception": false,
     "start_time": "2023-07-04T17:29:10.963109",
     "status": "completed"
    },
    "tags": []
   },
   "source": [
    "1) Read the kaggle writeups csv file\n",
    "\n",
    "2) Check the dimensions of the dataset\n",
    "\n",
    "3) Plot the set of number of competitions launched vs year\n",
    "\n",
    "4) Analyse the text\n",
    "\n",
    "   - store list of stop words in english\n",
    "   \n",
    "   - preprocess the text by tokenizing it\n",
    "   \n",
    "   - apply the preprocessing to the writeup and extract top 10 most common words observed\n",
    "   \n",
    "   - analyse the sentiment of the text\n",
    "   \n",
    "5) For Time Series Forecasting, groupby competition launch date and count\n",
    "\n",
    "6) Use ARIMA model to forecast the data\n"
   ]
  },
  {
   "cell_type": "markdown",
   "id": "0a296aea",
   "metadata": {
    "papermill": {
     "duration": 0.012635,
     "end_time": "2023-07-04T17:29:11.001078",
     "exception": false,
     "start_time": "2023-07-04T17:29:10.988443",
     "status": "completed"
    },
    "tags": []
   },
   "source": [
    "Firstly, all the necessay libraries are imported, as shown below:"
   ]
  },
  {
   "cell_type": "code",
   "execution_count": 4,
   "id": "06dd1837",
   "metadata": {
    "execution": {
     "iopub.execute_input": "2023-07-04T17:29:11.029155Z",
     "iopub.status.busy": "2023-07-04T17:29:11.028347Z",
     "iopub.status.idle": "2023-07-04T17:29:11.694138Z",
     "shell.execute_reply": "2023-07-04T17:29:11.692879Z"
    },
    "papermill": {
     "duration": 0.68267,
     "end_time": "2023-07-04T17:29:11.696912",
     "exception": false,
     "start_time": "2023-07-04T17:29:11.014242",
     "status": "completed"
    },
    "tags": []
   },
   "outputs": [
    {
     "name": "stderr",
     "output_type": "stream",
     "text": [
      "/opt/conda/lib/python3.10/site-packages/nltk/twitter/__init__.py:20: UserWarning: The twython library has not been installed. Some functionality from the twitter package will not be available.\n",
      "  warnings.warn(\"The twython library has not been installed. \"\n"
     ]
    }
   ],
   "source": [
    "import pandas as pd\n",
    "import numpy as np\n",
    "import matplotlib.pyplot as plt\n",
    "from nltk.corpus import stopwords\n",
    "from nltk.tokenize import word_tokenize\n",
    "from nltk.stem import PorterStemmer\n",
    "from nltk.sentiment import SentimentIntensityAnalyzer\n",
    "from statsmodels.tsa.arima.model import ARIMA"
   ]
  },
  {
   "cell_type": "markdown",
   "id": "0bd5e912",
   "metadata": {
    "papermill": {
     "duration": 0.012422,
     "end_time": "2023-07-04T17:29:11.722405",
     "exception": false,
     "start_time": "2023-07-04T17:29:11.709983",
     "status": "completed"
    },
    "tags": []
   },
   "source": [
    "Next, we load the given data as depicted:"
   ]
  },
  {
   "cell_type": "code",
   "execution_count": 5,
   "id": "a296fc84",
   "metadata": {
    "execution": {
     "iopub.execute_input": "2023-07-04T17:29:11.750642Z",
     "iopub.status.busy": "2023-07-04T17:29:11.750202Z",
     "iopub.status.idle": "2023-07-04T17:29:12.561712Z",
     "shell.execute_reply": "2023-07-04T17:29:12.560405Z"
    },
    "papermill": {
     "duration": 0.830248,
     "end_time": "2023-07-04T17:29:12.565538",
     "exception": false,
     "start_time": "2023-07-04T17:29:11.735290",
     "status": "completed"
    },
    "tags": []
   },
   "outputs": [],
   "source": [
    "# Step 1: Load the data\n",
    "df = pd.read_csv(\"/kaggle/input/2023-kaggle-ai-report/kaggle_writeups_20230510.csv\")"
   ]
  },
  {
   "cell_type": "markdown",
   "id": "64e2b218",
   "metadata": {
    "papermill": {
     "duration": 0.012929,
     "end_time": "2023-07-04T17:29:12.592195",
     "exception": false,
     "start_time": "2023-07-04T17:29:12.579266",
     "status": "completed"
    },
    "tags": []
   },
   "source": [
    "Now, we perform the Exploratory Data Analysis (EDA):"
   ]
  },
  {
   "cell_type": "code",
   "execution_count": 6,
   "id": "542944b9",
   "metadata": {
    "execution": {
     "iopub.execute_input": "2023-07-04T17:29:12.620828Z",
     "iopub.status.busy": "2023-07-04T17:29:12.619416Z",
     "iopub.status.idle": "2023-07-04T17:29:12.626337Z",
     "shell.execute_reply": "2023-07-04T17:29:12.625130Z"
    },
    "papermill": {
     "duration": 0.023663,
     "end_time": "2023-07-04T17:29:12.628861",
     "exception": false,
     "start_time": "2023-07-04T17:29:12.605198",
     "status": "completed"
    },
    "tags": []
   },
   "outputs": [
    {
     "name": "stdout",
     "output_type": "stream",
     "text": [
      "Dataset Dimensions: (3127, 7)\n"
     ]
    }
   ],
   "source": [
    "# Step 2: Exploratory Data Analysis (EDA)\n",
    "# Check dimensions of the dataset\n",
    "print(\"Dataset Dimensions:\", df.shape)"
   ]
  },
  {
   "cell_type": "code",
   "execution_count": 7,
   "id": "c03fae9b",
   "metadata": {
    "execution": {
     "iopub.execute_input": "2023-07-04T17:29:12.657828Z",
     "iopub.status.busy": "2023-07-04T17:29:12.656737Z",
     "iopub.status.idle": "2023-07-04T17:29:12.682238Z",
     "shell.execute_reply": "2023-07-04T17:29:12.680714Z"
    },
    "papermill": {
     "duration": 0.043015,
     "end_time": "2023-07-04T17:29:12.685028",
     "exception": false,
     "start_time": "2023-07-04T17:29:12.642013",
     "status": "completed"
    },
    "tags": []
   },
   "outputs": [
    {
     "data": {
      "text/plain": [
       "Competition Launch Date    0\n",
       "Title of Competition       0\n",
       "Competition URL            0\n",
       "Date of Writeup            0\n",
       "Title of Writeup           0\n",
       "Writeup                    2\n",
       "Writeup URL                0\n",
       "dtype: int64"
      ]
     },
     "execution_count": 7,
     "metadata": {},
     "output_type": "execute_result"
    }
   ],
   "source": [
    "df.isnull().sum()"
   ]
  },
  {
   "cell_type": "code",
   "execution_count": 8,
   "id": "9cca39b9",
   "metadata": {
    "execution": {
     "iopub.execute_input": "2023-07-04T17:29:12.713934Z",
     "iopub.status.busy": "2023-07-04T17:29:12.713488Z",
     "iopub.status.idle": "2023-07-04T17:29:12.730457Z",
     "shell.execute_reply": "2023-07-04T17:29:12.729566Z"
    },
    "papermill": {
     "duration": 0.034229,
     "end_time": "2023-07-04T17:29:12.732855",
     "exception": false,
     "start_time": "2023-07-04T17:29:12.698626",
     "status": "completed"
    },
    "tags": []
   },
   "outputs": [],
   "source": [
    "df=df.dropna()"
   ]
  },
  {
   "cell_type": "code",
   "execution_count": 9,
   "id": "4a07b002",
   "metadata": {
    "execution": {
     "iopub.execute_input": "2023-07-04T17:29:12.761519Z",
     "iopub.status.busy": "2023-07-04T17:29:12.761067Z",
     "iopub.status.idle": "2023-07-04T17:29:12.778408Z",
     "shell.execute_reply": "2023-07-04T17:29:12.777241Z"
    },
    "papermill": {
     "duration": 0.034583,
     "end_time": "2023-07-04T17:29:12.780937",
     "exception": false,
     "start_time": "2023-07-04T17:29:12.746354",
     "status": "completed"
    },
    "tags": []
   },
   "outputs": [
    {
     "data": {
      "text/plain": [
       "Competition Launch Date    0\n",
       "Title of Competition       0\n",
       "Competition URL            0\n",
       "Date of Writeup            0\n",
       "Title of Writeup           0\n",
       "Writeup                    0\n",
       "Writeup URL                0\n",
       "dtype: int64"
      ]
     },
     "execution_count": 9,
     "metadata": {},
     "output_type": "execute_result"
    }
   ],
   "source": [
    "df.isnull().sum()"
   ]
  },
  {
   "cell_type": "code",
   "execution_count": 10,
   "id": "c07b6364",
   "metadata": {
    "execution": {
     "iopub.execute_input": "2023-07-04T17:29:12.810670Z",
     "iopub.status.busy": "2023-07-04T17:29:12.809691Z",
     "iopub.status.idle": "2023-07-04T17:29:13.216406Z",
     "shell.execute_reply": "2023-07-04T17:29:13.215240Z"
    },
    "papermill": {
     "duration": 0.424383,
     "end_time": "2023-07-04T17:29:13.218947",
     "exception": false,
     "start_time": "2023-07-04T17:29:12.794564",
     "status": "completed"
    },
    "tags": []
   },
   "outputs": [
    {
     "data": {
      "image/png": "[encoded data removed]",
      "text/plain": [
       "<Figure size 640x480 with 1 Axes>"
      ]
     },
     "metadata": {},
     "output_type": "display_data"
    }
   ],
   "source": [
    "# Explore competition launch dates\n",
    "df['Competition Launch Date'] = pd.to_datetime(df['Competition Launch Date'])\n",
    "df['Year'] = df['Competition Launch Date'].dt.year\n",
    "competition_counts = df['Year'].value_counts().sort_index()\n",
    "plt.plot(competition_counts.index, competition_counts.values)\n",
    "plt.xlabel('Year')\n",
    "plt.ylabel('Number of Competitions')\n",
    "plt.title('Number of Competitions Launched Over Time')\n",
    "plt.show()"
   ]
  },
  {
   "cell_type": "markdown",
   "id": "c260fcec",
   "metadata": {
    "papermill": {
     "duration": 0.013502,
     "end_time": "2023-07-04T17:29:13.246432",
     "exception": false,
     "start_time": "2023-07-04T17:29:13.232930",
     "status": "completed"
    },
    "tags": []
   },
   "source": [
    "Through our initial analysis, we observe that there are a total of 3127 records, with 2 missing values for the 'Writeup' column. Since, 2 is a really small number as compared to the total number of records, we drop the 2 null values. Then, we explore the launch dates to build our foundation for the analysis. Variable competition_counts stored the year of the competition. plt.plot was used to plot the data. We then proceeded to label the x and y axes. The plot gave us a count of number of competitions over time. We can see that, the number of competitions increased significantly from the year 2016 and currently in the year 2023 it is still being monitored. \n"
   ]
  },
  {
   "cell_type": "code",
   "execution_count": 11,
   "id": "fbbc76d6",
   "metadata": {
    "execution": {
     "iopub.execute_input": "2023-07-04T17:29:13.280974Z",
     "iopub.status.busy": "2023-07-04T17:29:13.280273Z",
     "iopub.status.idle": "2023-07-04T17:30:20.958519Z",
     "shell.execute_reply": "2023-07-04T17:30:20.957188Z"
    },
    "papermill": {
     "duration": 67.699805,
     "end_time": "2023-07-04T17:30:20.961943",
     "exception": false,
     "start_time": "2023-07-04T17:29:13.262138",
     "status": "completed"
    },
    "tags": []
   },
   "outputs": [],
   "source": [
    "# Step 3: Text Data Analysis\n",
    "# Preprocessing\n",
    "stop_words = set(stopwords.words('english'))\n",
    "stemmer = PorterStemmer()\n",
    "\n",
    "def preprocess_text(text):\n",
    "    if pd.isnull(text) or isinstance(text, float):\n",
    "        return ''\n",
    "    tokens = word_tokenize(text.lower())\n",
    "    tokens = [stemmer.stem(token) for token in tokens if token.isalnum() and token not in stop_words]\n",
    "    return ' '.join(tokens)\n",
    "\n",
    "df['Processed Writeup'] = df['Writeup'].apply(preprocess_text)"
   ]
  },
  {
   "cell_type": "markdown",
   "id": "3d466cac",
   "metadata": {
    "papermill": {
     "duration": 0.014424,
     "end_time": "2023-07-04T17:30:20.991568",
     "exception": false,
     "start_time": "2023-07-04T17:30:20.977144",
     "status": "completed"
    },
    "tags": []
   },
   "source": [
    "The above is for textual analysis: stop_words is a set of all stop words in english (for example, ‘and’).  stemmer  \n",
    "finds the root for similar words. Function preprocess_text is  used on the text. ps.isnull() checks for empty strings/ null values. Tokens received from word_tokenize are stored in the variable tokens and returned. The function is then applied to the Writeup"
   ]
  },
  {
   "cell_type": "code",
   "execution_count": 12,
   "id": "2ec10adb",
   "metadata": {
    "execution": {
     "iopub.execute_input": "2023-07-04T17:30:21.021556Z",
     "iopub.status.busy": "2023-07-04T17:30:21.020852Z",
     "iopub.status.idle": "2023-07-04T17:30:52.123705Z",
     "shell.execute_reply": "2023-07-04T17:30:52.122155Z"
    },
    "papermill": {
     "duration": 31.121931,
     "end_time": "2023-07-04T17:30:52.127371",
     "exception": false,
     "start_time": "2023-07-04T17:30:21.005440",
     "status": "completed"
    },
    "tags": []
   },
   "outputs": [
    {
     "data": {
      "image/png": "[encoded data removed]",
      "text/plain": [
       "<Figure size 640x480 with 1 Axes>"
      ]
     },
     "metadata": {},
     "output_type": "display_data"
    }
   ],
   "source": [
    "# Frequency analysis\n",
    "word_freq = pd.Series(' '.join(df['Processed Writeup']).split()).value_counts()[:10]\n",
    "plt.bar(word_freq.index, word_freq.values)\n",
    "plt.xlabel('Words')\n",
    "plt.ylabel('Frequency')\n",
    "plt.title('Top 10 Most Common Words in Writeups')\n",
    "plt.show()\n",
    "\n",
    "# Sentiment analysis\n",
    "sid = SentimentIntensityAnalyzer()\n",
    "df['Sentiment'] = df['Writeup'].apply(lambda x: sid.polarity_scores(str(x))['compound'])\n"
   ]
  },
  {
   "cell_type": "markdown",
   "id": "8f61a8d4",
   "metadata": {
    "papermill": {
     "duration": 0.015064,
     "end_time": "2023-07-04T17:30:52.157642",
     "exception": false,
     "start_time": "2023-07-04T17:30:52.142578",
     "status": "completed"
    },
    "tags": []
   },
   "source": [
    "Through the above plot, it is evident that some of the most common words in the submissions are pertaining to 'http','model','train','code' and 'featur'. At first glance, we note that the competitions are usually inclined towards something to do with web application, model training and feature analysis."
   ]
  },
  {
   "cell_type": "markdown",
   "id": "525251bf",
   "metadata": {
    "papermill": {
     "duration": 0.01532,
     "end_time": "2023-07-04T17:30:52.188760",
     "exception": false,
     "start_time": "2023-07-04T17:30:52.173440",
     "status": "completed"
    },
    "tags": []
   },
   "source": [
    "Now, on our given data we apply time series forecasting, to predict how many competitions might be held in the future."
   ]
  },
  {
   "cell_type": "markdown",
   "id": "487bfbad",
   "metadata": {
    "papermill": {
     "duration": 0.01394,
     "end_time": "2023-07-04T17:30:52.217740",
     "exception": false,
     "start_time": "2023-07-04T17:30:52.203800",
     "status": "completed"
    },
    "tags": []
   },
   "source": [
    "<h3> Model 1: ARIMA </h3>"
   ]
  },
  {
   "cell_type": "code",
   "execution_count": 13,
   "id": "c7824f3f",
   "metadata": {
    "execution": {
     "iopub.execute_input": "2023-07-04T17:30:52.248713Z",
     "iopub.status.busy": "2023-07-04T17:30:52.248249Z",
     "iopub.status.idle": "2023-07-04T17:30:52.424531Z",
     "shell.execute_reply": "2023-07-04T17:30:52.423181Z"
    },
    "papermill": {
     "duration": 0.195623,
     "end_time": "2023-07-04T17:30:52.427745",
     "exception": false,
     "start_time": "2023-07-04T17:30:52.232122",
     "status": "completed"
    },
    "tags": []
   },
   "outputs": [
    {
     "name": "stderr",
     "output_type": "stream",
     "text": [
      "/opt/conda/lib/python3.10/site-packages/statsmodels/tsa/base/tsa_model.py:471: ValueWarning: A date index has been provided, but it has no associated frequency information and so will be ignored when e.g. forecasting.\n",
      "  self._init_dates(dates, freq)\n",
      "/opt/conda/lib/python3.10/site-packages/statsmodels/tsa/base/tsa_model.py:471: ValueWarning: A date index has been provided, but it has no associated frequency information and so will be ignored when e.g. forecasting.\n",
      "  self._init_dates(dates, freq)\n",
      "/opt/conda/lib/python3.10/site-packages/statsmodels/tsa/base/tsa_model.py:471: ValueWarning: A date index has been provided, but it has no associated frequency information and so will be ignored when e.g. forecasting.\n",
      "  self._init_dates(dates, freq)\n",
      "/opt/conda/lib/python3.10/site-packages/statsmodels/tsa/base/tsa_model.py:834: ValueWarning: No supported index is available. Prediction results will be given with an integer index beginning at `start`.\n",
      "  return get_prediction_index(\n"
     ]
    }
   ],
   "source": [
    "# Step 4: Time Series Forecasting\n",
    "# Assuming \"Competition Launch Date\" as the time-related variable\n",
    "time_series = df.groupby('Competition Launch Date').size().reset_index(name='Count')\n",
    "time_series = time_series.set_index('Competition Launch Date')\n",
    "\n",
    "# ARIMA forecasting\n",
    "model = ARIMA(time_series['Count'], order=(1, 1, 1))\n",
    "model_fit = model.fit()\n",
    "forecast_start = time_series.index.max() + pd.DateOffset(days=1)\n",
    "forecast_end = forecast_start + pd.DateOffset(days=190)\n",
    "forecast_index = pd.date_range(start=forecast_start, end=forecast_end, freq='D')\n",
    "forecast = model_fit.get_forecast(steps=len(forecast_index)).predicted_mean\n"
   ]
  },
  {
   "cell_type": "markdown",
   "id": "78f7b976",
   "metadata": {
    "papermill": {
     "duration": 0.016262,
     "end_time": "2023-07-04T17:30:52.460115",
     "exception": false,
     "start_time": "2023-07-04T17:30:52.443853",
     "status": "completed"
    },
    "tags": []
   },
   "source": [
    "Time Series ForeCasting - time_series groups by competition launch date and sets index to count. "
   ]
  },
  {
   "cell_type": "markdown",
   "id": "ed89394e",
   "metadata": {
    "papermill": {
     "duration": 0.01497,
     "end_time": "2023-07-04T17:30:52.492022",
     "exception": false,
     "start_time": "2023-07-04T17:30:52.477052",
     "status": "completed"
    },
    "tags": []
   },
   "source": [
    "ARIMA forecasting:\n",
    "- model - initializes ARIMA model object\n",
    "- model_fit - fits the model to the data\n",
    "- forecast_start - determines start date for forecast\n",
    "- forecast_end - determines end date for forecast\n",
    "- forecast_index - creates data range from start to end\n",
    "- predicted_mean - contains forecasted values\n"
   ]
  },
  {
   "cell_type": "markdown",
   "id": "a5ce92e8",
   "metadata": {
    "papermill": {
     "duration": 0.014487,
     "end_time": "2023-07-04T17:30:52.521616",
     "exception": false,
     "start_time": "2023-07-04T17:30:52.507129",
     "status": "completed"
    },
    "tags": []
   },
   "source": [
    "Display the forecast"
   ]
  },
  {
   "cell_type": "code",
   "execution_count": 14,
   "id": "094b45c2",
   "metadata": {
    "execution": {
     "iopub.execute_input": "2023-07-04T17:30:52.554451Z",
     "iopub.status.busy": "2023-07-04T17:30:52.553609Z",
     "iopub.status.idle": "2023-07-04T17:30:52.564323Z",
     "shell.execute_reply": "2023-07-04T17:30:52.562823Z"
    },
    "papermill": {
     "duration": 0.02989,
     "end_time": "2023-07-04T17:30:52.567030",
     "exception": false,
     "start_time": "2023-07-04T17:30:52.537140",
     "status": "completed"
    },
    "tags": []
   },
   "outputs": [
    {
     "data": {
      "text/plain": [
       "309    15.332340\n",
       "310    15.565309\n",
       "311    15.553681\n",
       "312    15.554262\n",
       "313    15.554233\n",
       "         ...    \n",
       "495    15.554234\n",
       "496    15.554234\n",
       "497    15.554234\n",
       "498    15.554234\n",
       "499    15.554234\n",
       "Name: predicted_mean, Length: 191, dtype: float64"
      ]
     },
     "execution_count": 14,
     "metadata": {},
     "output_type": "execute_result"
    }
   ],
   "source": [
    "forecast"
   ]
  },
  {
   "cell_type": "markdown",
   "id": "97b811fc",
   "metadata": {
    "papermill": {
     "duration": 0.015254,
     "end_time": "2023-07-04T17:30:52.599477",
     "exception": false,
     "start_time": "2023-07-04T17:30:52.584223",
     "status": "completed"
    },
    "tags": []
   },
   "source": [
    "Plot the time series data - Date vs Count"
   ]
  },
  {
   "cell_type": "code",
   "execution_count": 15,
   "id": "2dbe7dab",
   "metadata": {
    "execution": {
     "iopub.execute_input": "2023-07-04T17:30:52.631373Z",
     "iopub.status.busy": "2023-07-04T17:30:52.630550Z",
     "iopub.status.idle": "2023-07-04T17:30:53.003733Z",
     "shell.execute_reply": "2023-07-04T17:30:53.002491Z"
    },
    "papermill": {
     "duration": 0.392483,
     "end_time": "2023-07-04T17:30:53.006759",
     "exception": false,
     "start_time": "2023-07-04T17:30:52.614276",
     "status": "completed"
    },
    "tags": []
   },
   "outputs": [
    {
     "data": {
      "image/png": "[encoded data removed]",
      "text/plain": [
       "<Figure size 640x480 with 1 Axes>"
      ]
     },
     "metadata": {},
     "output_type": "display_data"
    }
   ],
   "source": [
    "plt.plot(time_series.index, time_series['Count'], label='Actual')\n",
    "plt.plot(forecast_index, forecast, label='Forecast')\n",
    "plt.xlabel('Date')\n",
    "plt.ylabel('Count')\n",
    "plt.title('Time Series Forecasting')\n",
    "plt.legend()\n",
    "plt.show()"
   ]
  },
  {
   "cell_type": "markdown",
   "id": "f7380f23",
   "metadata": {
    "papermill": {
     "duration": 0.015247,
     "end_time": "2023-07-04T17:30:53.037856",
     "exception": false,
     "start_time": "2023-07-04T17:30:53.022609",
     "status": "completed"
    },
    "tags": []
   },
   "source": [
    "<h3> Model 2: LSTM </h3>"
   ]
  },
  {
   "cell_type": "code",
   "execution_count": 16,
   "id": "b4e7e0ba",
   "metadata": {
    "execution": {
     "iopub.execute_input": "2023-07-04T17:30:53.074291Z",
     "iopub.status.busy": "2023-07-04T17:30:53.073867Z",
     "iopub.status.idle": "2023-07-04T17:31:09.162324Z",
     "shell.execute_reply": "2023-07-04T17:31:09.160749Z"
    },
    "papermill": {
     "duration": 16.110578,
     "end_time": "2023-07-04T17:31:09.165686",
     "exception": false,
     "start_time": "2023-07-04T17:30:53.055108",
     "status": "completed"
    },
    "tags": []
   },
   "outputs": [
    {
     "name": "stdout",
     "output_type": "stream",
     "text": [
      "Requirement already satisfied: tensorflow in /opt/conda/lib/python3.10/site-packages (2.12.0)\r\n",
      "Requirement already satisfied: keras in /opt/conda/lib/python3.10/site-packages (2.12.0)\r\n",
      "Requirement already satisfied: absl-py>=1.0.0 in /opt/conda/lib/python3.10/site-packages (from tensorflow) (1.4.0)\r\n",
      "Requirement already satisfied: astunparse>=1.6.0 in /opt/conda/lib/python3.10/site-packages (from tensorflow) (1.6.3)\r\n",
      "Requirement already satisfied: flatbuffers>=2.0 in /opt/conda/lib/python3.10/site-packages (from tensorflow) (23.3.3)\r\n",
      "Requirement already satisfied: gast<=0.4.0,>=0.2.1 in /opt/conda/lib/python3.10/site-packages (from tensorflow) (0.4.0)\r\n",
      "Requirement already satisfied: google-pasta>=0.1.1 in /opt/conda/lib/python3.10/site-packages (from tensorflow) (0.2.0)\r\n",
      "Requirement already satisfied: grpcio<2.0,>=1.24.3 in /opt/conda/lib/python3.10/site-packages (from tensorflow) (1.51.3)\r\n",
      "Requirement already satisfied: h5py>=2.9.0 in /opt/conda/lib/python3.10/site-packages (from tensorflow) (3.8.0)\r\n",
      "Requirement already satisfied: jax>=0.3.15 in /opt/conda/lib/python3.10/site-packages (from tensorflow) (0.4.8)\r\n",
      "Requirement already satisfied: libclang>=13.0.0 in /opt/conda/lib/python3.10/site-packages (from tensorflow) (16.0.0)\r\n",
      "Requirement already satisfied: numpy<1.24,>=1.22 in /opt/conda/lib/python3.10/site-packages (from tensorflow) (1.23.5)\r\n",
      "Requirement already satisfied: opt-einsum>=2.3.2 in /opt/conda/lib/python3.10/site-packages (from tensorflow) (3.3.0)\r\n",
      "Requirement already satisfied: packaging in /opt/conda/lib/python3.10/site-packages (from tensorflow) (21.3)\r\n",
      "Requirement already satisfied: protobuf!=4.21.0,!=4.21.1,!=4.21.2,!=4.21.3,!=4.21.4,!=4.21.5,<5.0.0dev,>=3.20.3 in /opt/conda/lib/python3.10/site-packages (from tensorflow) (3.20.3)\r\n",
      "Requirement already satisfied: setuptools in /opt/conda/lib/python3.10/site-packages (from tensorflow) (59.8.0)\r\n",
      "Requirement already satisfied: six>=1.12.0 in /opt/conda/lib/python3.10/site-packages (from tensorflow) (1.16.0)\r\n",
      "Requirement already satisfied: tensorboard<2.13,>=2.12 in /opt/conda/lib/python3.10/site-packages (from tensorflow) (2.12.3)\r\n",
      "Requirement already satisfied: tensorflow-estimator<2.13,>=2.12.0 in /opt/conda/lib/python3.10/site-packages (from tensorflow) (2.12.0)\r\n",
      "Requirement already satisfied: termcolor>=1.1.0 in /opt/conda/lib/python3.10/site-packages (from tensorflow) (2.3.0)\r\n",
      "Requirement already satisfied: typing-extensions>=3.6.6 in /opt/conda/lib/python3.10/site-packages (from tensorflow) (4.5.0)\r\n",
      "Requirement already satisfied: wrapt<1.15,>=1.11.0 in /opt/conda/lib/python3.10/site-packages (from tensorflow) (1.14.1)\r\n",
      "Requirement already satisfied: tensorflow-io-gcs-filesystem>=0.23.1 in /opt/conda/lib/python3.10/site-packages (from tensorflow) (0.31.0)\r\n",
      "Requirement already satisfied: wheel<1.0,>=0.23.0 in /opt/conda/lib/python3.10/site-packages (from astunparse>=1.6.0->tensorflow) (0.40.0)\r\n",
      "Requirement already satisfied: ml-dtypes>=0.0.3 in /opt/conda/lib/python3.10/site-packages (from jax>=0.3.15->tensorflow) (0.1.0)\r\n",
      "Requirement already satisfied: scipy>=1.7 in /opt/conda/lib/python3.10/site-packages (from jax>=0.3.15->tensorflow) (1.10.1)\r\n",
      "Requirement already satisfied: google-auth<3,>=1.6.3 in /opt/conda/lib/python3.10/site-packages (from tensorboard<2.13,>=2.12->tensorflow) (2.17.3)\r\n",
      "Requirement already satisfied: google-auth-oauthlib<1.1,>=0.5 in /opt/conda/lib/python3.10/site-packages (from tensorboard<2.13,>=2.12->tensorflow) (1.0.0)\r\n",
      "Requirement already satisfied: markdown>=2.6.8 in /opt/conda/lib/python3.10/site-packages (from tensorboard<2.13,>=2.12->tensorflow) (3.4.3)\r\n",
      "Requirement already satisfied: requests<3,>=2.21.0 in /opt/conda/lib/python3.10/site-packages (from tensorboard<2.13,>=2.12->tensorflow) (2.28.2)\r\n",
      "Requirement already satisfied: tensorboard-data-server<0.8.0,>=0.7.0 in /opt/conda/lib/python3.10/site-packages (from tensorboard<2.13,>=2.12->tensorflow) (0.7.0)\r\n",
      "Requirement already satisfied: werkzeug>=1.0.1 in /opt/conda/lib/python3.10/site-packages (from tensorboard<2.13,>=2.12->tensorflow) (2.3.6)\r\n",
      "Requirement already satisfied: pyparsing!=3.0.5,>=2.0.2 in /opt/conda/lib/python3.10/site-packages (from packaging->tensorflow) (3.0.9)\r\n",
      "Requirement already satisfied: cachetools<6.0,>=2.0.0 in /opt/conda/lib/python3.10/site-packages (from google-auth<3,>=1.6.3->tensorboard<2.13,>=2.12->tensorflow) (4.2.4)\r\n",
      "Requirement already satisfied: pyasn1-modules>=0.2.1 in /opt/conda/lib/python3.10/site-packages (from google-auth<3,>=1.6.3->tensorboard<2.13,>=2.12->tensorflow) (0.2.7)\r\n",
      "Requirement already satisfied: rsa<5,>=3.1.4 in /opt/conda/lib/python3.10/site-packages (from google-auth<3,>=1.6.3->tensorboard<2.13,>=2.12->tensorflow) (4.9)\r\n",
      "Requirement already satisfied: requests-oauthlib>=0.7.0 in /opt/conda/lib/python3.10/site-packages (from google-auth-oauthlib<1.1,>=0.5->tensorboard<2.13,>=2.12->tensorflow) (1.3.1)\r\n",
      "Requirement already satisfied: charset-normalizer<4,>=2 in /opt/conda/lib/python3.10/site-packages (from requests<3,>=2.21.0->tensorboard<2.13,>=2.12->tensorflow) (2.1.1)\r\n",
      "Requirement already satisfied: idna<4,>=2.5 in /opt/conda/lib/python3.10/site-packages (from requests<3,>=2.21.0->tensorboard<2.13,>=2.12->tensorflow) (3.4)\r\n",
      "Requirement already satisfied: urllib3<1.27,>=1.21.1 in /opt/conda/lib/python3.10/site-packages (from requests<3,>=2.21.0->tensorboard<2.13,>=2.12->tensorflow) (1.26.15)\r\n",
      "Requirement already satisfied: certifi>=2017.4.17 in /opt/conda/lib/python3.10/site-packages (from requests<3,>=2.21.0->tensorboard<2.13,>=2.12->tensorflow) (2023.5.7)\r\n",
      "Requirement already satisfied: MarkupSafe>=2.1.1 in /opt/conda/lib/python3.10/site-packages (from werkzeug>=1.0.1->tensorboard<2.13,>=2.12->tensorflow) (2.1.2)\r\n",
      "Requirement already satisfied: pyasn1<0.5.0,>=0.4.6 in /opt/conda/lib/python3.10/site-packages (from pyasn1-modules>=0.2.1->google-auth<3,>=1.6.3->tensorboard<2.13,>=2.12->tensorflow) (0.4.8)\r\n",
      "Requirement already satisfied: oauthlib>=3.0.0 in /opt/conda/lib/python3.10/site-packages (from requests-oauthlib>=0.7.0->google-auth-oauthlib<1.1,>=0.5->tensorboard<2.13,>=2.12->tensorflow) (3.2.2)\r\n",
      "\u001b[33mWARNING: Running pip as the 'root' user can result in broken permissions and conflicting behaviour with the system package manager. It is recommended to use a virtual environment instead: https://pip.pypa.io/warnings/venv\u001b[0m\u001b[33m\r\n",
      "\u001b[0m"
     ]
    }
   ],
   "source": [
    "!pip install tensorflow keras"
   ]
  },
  {
   "cell_type": "markdown",
   "id": "2b060d6d",
   "metadata": {
    "papermill": {
     "duration": 0.01808,
     "end_time": "2023-07-04T17:31:09.200877",
     "exception": false,
     "start_time": "2023-07-04T17:31:09.182797",
     "status": "completed"
    },
    "tags": []
   },
   "source": [
    "1) Import libraries - pandas, numpy , matplotlib, keras and sklearn\n",
    "\n",
    "2) To perform time series forecasting using LSTM we will follo the belo steps:\n",
    "\n",
    "     - format the data\n",
    "     \n",
    "     - normalize using scaler\n",
    "     \n",
    "     - split into test and train sets\n",
    "     \n",
    "     - prepare training data\n",
    "     \n",
    "     - build LSTM model\n",
    "     \n",
    "     - train the model on train set\n",
    "     \n",
    "     - prepare test data\n",
    "     \n",
    "     - use it for predictions\n",
    "     \n",
    "     - trim test data accordingly\n",
    "     \n",
    "     - plot the forecast\n",
    "     "
   ]
  },
  {
   "cell_type": "code",
   "execution_count": 17,
   "id": "ae954002",
   "metadata": {
    "execution": {
     "iopub.execute_input": "2023-07-04T17:31:09.238447Z",
     "iopub.status.busy": "2023-07-04T17:31:09.237753Z",
     "iopub.status.idle": "2023-07-04T17:31:45.739650Z",
     "shell.execute_reply": "2023-07-04T17:31:45.738341Z"
    },
    "papermill": {
     "duration": 36.524798,
     "end_time": "2023-07-04T17:31:45.742783",
     "exception": false,
     "start_time": "2023-07-04T17:31:09.217985",
     "status": "completed"
    },
    "tags": []
   },
   "outputs": [
    {
     "name": "stderr",
     "output_type": "stream",
     "text": [
      "/opt/conda/lib/python3.10/site-packages/tensorflow_io/python/ops/__init__.py:98: UserWarning: unable to load libtensorflow_io_plugins.so: unable to open file: libtensorflow_io_plugins.so, from paths: ['/opt/conda/lib/python3.10/site-packages/tensorflow_io/python/ops/libtensorflow_io_plugins.so']\n",
      "caused by: ['/opt/conda/lib/python3.10/site-packages/tensorflow_io/python/ops/libtensorflow_io_plugins.so: undefined symbol: _ZN3tsl6StatusC1EN10tensorflow5error4CodeESt17basic_string_viewIcSt11char_traitsIcEENS_14SourceLocationE']\n",
      "  warnings.warn(f\"unable to load libtensorflow_io_plugins.so: {e}\")\n",
      "/opt/conda/lib/python3.10/site-packages/tensorflow_io/python/ops/__init__.py:104: UserWarning: file system plugins are not loaded: unable to open file: libtensorflow_io.so, from paths: ['/opt/conda/lib/python3.10/site-packages/tensorflow_io/python/ops/libtensorflow_io.so']\n",
      "caused by: ['/opt/conda/lib/python3.10/site-packages/tensorflow_io/python/ops/libtensorflow_io.so: undefined symbol: _ZTVN10tensorflow13GcsFileSystemE']\n",
      "  warnings.warn(f\"file system plugins are not loaded: {e}\")\n"
     ]
    },
    {
     "name": "stdout",
     "output_type": "stream",
     "text": [
      "Epoch 1/100\n",
      "15/15 [==============================] - 4s 11ms/step - loss: 0.0398\n",
      "Epoch 2/100\n",
      "15/15 [==============================] - 0s 8ms/step - loss: 0.0283\n",
      "Epoch 3/100\n",
      "15/15 [==============================] - 0s 9ms/step - loss: 0.0257\n",
      "Epoch 4/100\n",
      "15/15 [==============================] - 0s 9ms/step - loss: 0.0247\n",
      "Epoch 5/100\n",
      "15/15 [==============================] - 0s 9ms/step - loss: 0.0251\n",
      "Epoch 6/100\n",
      "15/15 [==============================] - 0s 8ms/step - loss: 0.0244\n",
      "Epoch 7/100\n",
      "15/15 [==============================] - 0s 8ms/step - loss: 0.0245\n",
      "Epoch 8/100\n",
      "15/15 [==============================] - 0s 8ms/step - loss: 0.0251\n",
      "Epoch 9/100\n",
      "15/15 [==============================] - 0s 8ms/step - loss: 0.0249\n",
      "Epoch 10/100\n",
      "15/15 [==============================] - 0s 8ms/step - loss: 0.0245\n",
      "Epoch 11/100\n",
      "15/15 [==============================] - 0s 9ms/step - loss: 0.0247\n",
      "Epoch 12/100\n",
      "15/15 [==============================] - 0s 8ms/step - loss: 0.0245\n",
      "Epoch 13/100\n",
      "15/15 [==============================] - 0s 8ms/step - loss: 0.0250\n",
      "Epoch 14/100\n",
      "15/15 [==============================] - 0s 8ms/step - loss: 0.0246\n",
      "Epoch 15/100\n",
      "15/15 [==============================] - 0s 8ms/step - loss: 0.0254\n",
      "Epoch 16/100\n",
      "15/15 [==============================] - 0s 7ms/step - loss: 0.0247\n",
      "Epoch 17/100\n",
      "15/15 [==============================] - 0s 8ms/step - loss: 0.0243\n",
      "Epoch 18/100\n",
      "15/15 [==============================] - 0s 8ms/step - loss: 0.0251\n",
      "Epoch 19/100\n",
      "15/15 [==============================] - 0s 9ms/step - loss: 0.0246\n",
      "Epoch 20/100\n",
      "15/15 [==============================] - 0s 8ms/step - loss: 0.0249\n",
      "Epoch 21/100\n",
      "15/15 [==============================] - 0s 8ms/step - loss: 0.0253\n",
      "Epoch 22/100\n",
      "15/15 [==============================] - 0s 9ms/step - loss: 0.0247\n",
      "Epoch 23/100\n",
      "15/15 [==============================] - 0s 8ms/step - loss: 0.0243\n",
      "Epoch 24/100\n",
      "15/15 [==============================] - 0s 9ms/step - loss: 0.0247\n",
      "Epoch 25/100\n",
      "15/15 [==============================] - 0s 9ms/step - loss: 0.0246\n",
      "Epoch 26/100\n",
      "15/15 [==============================] - 0s 9ms/step - loss: 0.0246\n",
      "Epoch 27/100\n",
      "15/15 [==============================] - 0s 9ms/step - loss: 0.0241\n",
      "Epoch 28/100\n",
      "15/15 [==============================] - 0s 8ms/step - loss: 0.0241\n",
      "Epoch 29/100\n",
      "15/15 [==============================] - 0s 8ms/step - loss: 0.0243\n",
      "Epoch 30/100\n",
      "15/15 [==============================] - 0s 10ms/step - loss: 0.0242\n",
      "Epoch 31/100\n",
      "15/15 [==============================] - 0s 10ms/step - loss: 0.0242\n",
      "Epoch 32/100\n",
      "15/15 [==============================] - 0s 10ms/step - loss: 0.0243\n",
      "Epoch 33/100\n",
      "15/15 [==============================] - 0s 8ms/step - loss: 0.0240\n",
      "Epoch 34/100\n",
      "15/15 [==============================] - 0s 9ms/step - loss: 0.0246\n",
      "Epoch 35/100\n",
      "15/15 [==============================] - 0s 8ms/step - loss: 0.0241\n",
      "Epoch 36/100\n",
      "15/15 [==============================] - 0s 8ms/step - loss: 0.0243\n",
      "Epoch 37/100\n",
      "15/15 [==============================] - 0s 8ms/step - loss: 0.0242\n",
      "Epoch 38/100\n",
      "15/15 [==============================] - 0s 8ms/step - loss: 0.0242\n",
      "Epoch 39/100\n",
      "15/15 [==============================] - 0s 8ms/step - loss: 0.0242\n",
      "Epoch 40/100\n",
      "15/15 [==============================] - 0s 8ms/step - loss: 0.0242\n",
      "Epoch 41/100\n",
      "15/15 [==============================] - 0s 8ms/step - loss: 0.0240\n",
      "Epoch 42/100\n",
      "15/15 [==============================] - 0s 8ms/step - loss: 0.0246\n",
      "Epoch 43/100\n",
      "15/15 [==============================] - 0s 7ms/step - loss: 0.0244\n",
      "Epoch 44/100\n",
      "15/15 [==============================] - 0s 8ms/step - loss: 0.0247\n",
      "Epoch 45/100\n",
      "15/15 [==============================] - 0s 9ms/step - loss: 0.0242\n",
      "Epoch 46/100\n",
      "15/15 [==============================] - 0s 8ms/step - loss: 0.0241\n",
      "Epoch 47/100\n",
      "15/15 [==============================] - 0s 8ms/step - loss: 0.0240\n",
      "Epoch 48/100\n",
      "15/15 [==============================] - 0s 8ms/step - loss: 0.0242\n",
      "Epoch 49/100\n",
      "15/15 [==============================] - 0s 8ms/step - loss: 0.0243\n",
      "Epoch 50/100\n",
      "15/15 [==============================] - 0s 8ms/step - loss: 0.0246\n",
      "Epoch 51/100\n",
      "15/15 [==============================] - 0s 9ms/step - loss: 0.0247\n",
      "Epoch 52/100\n",
      "15/15 [==============================] - 0s 8ms/step - loss: 0.0243\n",
      "Epoch 53/100\n",
      "15/15 [==============================] - 0s 8ms/step - loss: 0.0241\n",
      "Epoch 54/100\n",
      "15/15 [==============================] - 0s 8ms/step - loss: 0.0240\n",
      "Epoch 55/100\n",
      "15/15 [==============================] - 0s 8ms/step - loss: 0.0241\n",
      "Epoch 56/100\n",
      "15/15 [==============================] - 0s 8ms/step - loss: 0.0254\n",
      "Epoch 57/100\n",
      "15/15 [==============================] - 0s 8ms/step - loss: 0.0244\n",
      "Epoch 58/100\n",
      "15/15 [==============================] - 0s 8ms/step - loss: 0.0246\n",
      "Epoch 59/100\n",
      "15/15 [==============================] - 0s 8ms/step - loss: 0.0241\n",
      "Epoch 60/100\n",
      "15/15 [==============================] - 0s 8ms/step - loss: 0.0241\n",
      "Epoch 61/100\n",
      "15/15 [==============================] - 0s 8ms/step - loss: 0.0241\n",
      "Epoch 62/100\n",
      "15/15 [==============================] - 0s 8ms/step - loss: 0.0241\n",
      "Epoch 63/100\n",
      "15/15 [==============================] - 0s 8ms/step - loss: 0.0241\n",
      "Epoch 64/100\n",
      "15/15 [==============================] - 0s 8ms/step - loss: 0.0240\n",
      "Epoch 65/100\n",
      "15/15 [==============================] - 0s 8ms/step - loss: 0.0243\n",
      "Epoch 66/100\n",
      "15/15 [==============================] - 0s 8ms/step - loss: 0.0248\n",
      "Epoch 67/100\n",
      "15/15 [==============================] - 0s 8ms/step - loss: 0.0245\n",
      "Epoch 68/100\n",
      "15/15 [==============================] - 0s 8ms/step - loss: 0.0239\n",
      "Epoch 69/100\n",
      "15/15 [==============================] - 0s 8ms/step - loss: 0.0240\n",
      "Epoch 70/100\n",
      "15/15 [==============================] - 0s 8ms/step - loss: 0.0245\n",
      "Epoch 71/100\n",
      "15/15 [==============================] - 0s 9ms/step - loss: 0.0241\n",
      "Epoch 72/100\n",
      "15/15 [==============================] - 0s 9ms/step - loss: 0.0238\n",
      "Epoch 73/100\n",
      "15/15 [==============================] - 0s 8ms/step - loss: 0.0239\n",
      "Epoch 74/100\n",
      "15/15 [==============================] - 0s 9ms/step - loss: 0.0240\n",
      "Epoch 75/100\n",
      "15/15 [==============================] - 0s 9ms/step - loss: 0.0241\n",
      "Epoch 76/100\n",
      "15/15 [==============================] - 0s 9ms/step - loss: 0.0240\n",
      "Epoch 77/100\n",
      "15/15 [==============================] - 0s 10ms/step - loss: 0.0239\n",
      "Epoch 78/100\n",
      "15/15 [==============================] - 0s 11ms/step - loss: 0.0240\n",
      "Epoch 79/100\n",
      "15/15 [==============================] - 0s 10ms/step - loss: 0.0237\n",
      "Epoch 80/100\n",
      "15/15 [==============================] - 0s 9ms/step - loss: 0.0239\n",
      "Epoch 81/100\n",
      "15/15 [==============================] - 0s 9ms/step - loss: 0.0240\n",
      "Epoch 82/100\n",
      "15/15 [==============================] - 0s 9ms/step - loss: 0.0239\n",
      "Epoch 83/100\n",
      "15/15 [==============================] - 0s 9ms/step - loss: 0.0240\n",
      "Epoch 84/100\n",
      "15/15 [==============================] - 0s 9ms/step - loss: 0.0239\n",
      "Epoch 85/100\n",
      "15/15 [==============================] - 0s 8ms/step - loss: 0.0243\n",
      "Epoch 86/100\n",
      "15/15 [==============================] - 0s 9ms/step - loss: 0.0241\n",
      "Epoch 87/100\n",
      "15/15 [==============================] - 0s 8ms/step - loss: 0.0246\n",
      "Epoch 88/100\n",
      "15/15 [==============================] - 0s 8ms/step - loss: 0.0242\n",
      "Epoch 89/100\n",
      "15/15 [==============================] - 0s 8ms/step - loss: 0.0238\n",
      "Epoch 90/100\n",
      "15/15 [==============================] - 0s 8ms/step - loss: 0.0242\n",
      "Epoch 91/100\n",
      "15/15 [==============================] - 0s 8ms/step - loss: 0.0240\n",
      "Epoch 92/100\n",
      "15/15 [==============================] - 0s 8ms/step - loss: 0.0241\n",
      "Epoch 93/100\n",
      "15/15 [==============================] - 0s 8ms/step - loss: 0.0240\n",
      "Epoch 94/100\n",
      "15/15 [==============================] - 0s 8ms/step - loss: 0.0238\n",
      "Epoch 95/100\n",
      "15/15 [==============================] - 0s 8ms/step - loss: 0.0240\n",
      "Epoch 96/100\n",
      "15/15 [==============================] - 0s 8ms/step - loss: 0.0240\n",
      "Epoch 97/100\n",
      "15/15 [==============================] - 0s 8ms/step - loss: 0.0240\n",
      "Epoch 98/100\n",
      "15/15 [==============================] - 0s 8ms/step - loss: 0.0238\n",
      "Epoch 99/100\n",
      "15/15 [==============================] - 0s 8ms/step - loss: 0.0240\n",
      "Epoch 100/100\n",
      "15/15 [==============================] - 0s 8ms/step - loss: 0.0240\n",
      "2/2 [==============================] - 1s 10ms/step\n"
     ]
    },
    {
     "data": {
      "image/png": "[encoded data removed]",
      "text/plain": [
       "<Figure size 640x480 with 1 Axes>"
      ]
     },
     "metadata": {},
     "output_type": "display_data"
    }
   ],
   "source": [
    "import pandas as pd\n",
    "import numpy as np\n",
    "import matplotlib.pyplot as plt\n",
    "from sklearn.preprocessing import MinMaxScaler\n",
    "from keras.models import Sequential\n",
    "from keras.layers import LSTM, Dense\n",
    "\n",
    "# Step 4: Time Series Forecasting using LSTM\n",
    "# Prepare the data\n",
    "time_series['Count'] = time_series['Count'].astype(float)\n",
    "data = time_series['Count'].values.reshape(-1, 1)\n",
    "\n",
    "# Normalize the data\n",
    "scaler = MinMaxScaler(feature_range=(0, 1))\n",
    "data_scaled = scaler.fit_transform(data)\n",
    "\n",
    "# Split the data into train and test sets\n",
    "train_size = int(len(data_scaled) * 0.8)\n",
    "train_data = data_scaled[:train_size]\n",
    "test_data = data_scaled[train_size:]\n",
    "\n",
    "# Prepare the training data\n",
    "look_back = 7  # Number of previous time steps to use for prediction\n",
    "X_train, y_train = [], []\n",
    "for i in range(len(train_data) - look_back):\n",
    "    X_train.append(train_data[i:i + look_back, 0])\n",
    "    y_train.append(train_data[i + look_back, 0])\n",
    "X_train, y_train = np.array(X_train), np.array(y_train)\n",
    "X_train = np.reshape(X_train, (X_train.shape[0], X_train.shape[1], 1))\n",
    "\n",
    "# Build the LSTM model\n",
    "model = Sequential()\n",
    "model.add(LSTM(units=50, return_sequences=True, input_shape=(X_train.shape[1], 1)))\n",
    "model.add(LSTM(units=50))\n",
    "model.add(Dense(units=1))\n",
    "model.compile(optimizer='adam', loss='mean_squared_error')\n",
    "\n",
    "# Train the model\n",
    "model.fit(X_train, y_train, epochs=100, batch_size=16)\n",
    "\n",
    "# Prepare the test data\n",
    "inputs = data_scaled[len(data_scaled) - len(test_data) - look_back:]\n",
    "X_test = []\n",
    "for i in range(look_back, len(inputs)):\n",
    "    X_test.append(inputs[i - look_back:i, 0])\n",
    "X_test = np.array(X_test)\n",
    "X_test = np.reshape(X_test, (X_test.shape[0], X_test.shape[1], 1))\n",
    "\n",
    "# Make predictions on the test data\n",
    "predictions = model.predict(X_test)\n",
    "predictions = scaler.inverse_transform(predictions)\n",
    "\n",
    "\n",
    "# Trim the test_data and predictions to match the length of time_series\n",
    "test_data_trimmed = test_data[:len(predictions)]\n",
    "time_series_trimmed = time_series[train_size + look_back:train_size + look_back + len(predictions)]\n",
    "\n",
    "# Create a range of indices for the x-axis\n",
    "x_axis = range(len(predictions))\n",
    "\n",
    "# Visualize the forecast\n",
    "plt.plot(x_axis, test_data_trimmed, label='Actual')\n",
    "plt.plot(x_axis, predictions, label='Forecast')\n",
    "plt.xlabel('Index')\n",
    "plt.ylabel('Count')\n",
    "plt.title('LSTM Time Series Forecasting')\n",
    "plt.legend()\n",
    "plt.show()\n",
    "\n",
    "\n"
   ]
  },
  {
   "cell_type": "markdown",
   "id": "027fd944",
   "metadata": {
    "papermill": {
     "duration": 0.061813,
     "end_time": "2023-07-04T17:31:45.867443",
     "exception": false,
     "start_time": "2023-07-04T17:31:45.805630",
     "status": "completed"
    },
    "tags": []
   },
   "source": [
    "1) Convert the forecastes dates to dataframe\n",
    "\n",
    "2) Visualize it "
   ]
  },
  {
   "cell_type": "code",
   "execution_count": 18,
   "id": "c79c1965",
   "metadata": {
    "execution": {
     "iopub.execute_input": "2023-07-04T17:31:45.997462Z",
     "iopub.status.busy": "2023-07-04T17:31:45.996595Z",
     "iopub.status.idle": "2023-07-04T17:31:46.440695Z",
     "shell.execute_reply": "2023-07-04T17:31:46.439412Z"
    },
    "papermill": {
     "duration": 0.512473,
     "end_time": "2023-07-04T17:31:46.443587",
     "exception": false,
     "start_time": "2023-07-04T17:31:45.931114",
     "status": "completed"
    },
    "tags": []
   },
   "outputs": [
    {
     "data": {
      "image/png": "[encoded data removed]",
      "text/plain": [
       "<Figure size 640x480 with 1 Axes>"
      ]
     },
     "metadata": {},
     "output_type": "display_data"
    }
   ],
   "source": [
    "# Convert the forecasted dates to a pandas DateTimeIndex\n",
    "forecast_dates = pd.date_range(start=time_series.index[train_size + look_back], periods=len(predictions), freq='D')\n",
    "\n",
    "# Visualize the forecast\n",
    "plt.plot(forecast_dates, test_data[:len(predictions)], label='Actual')\n",
    "plt.plot(forecast_dates, predictions, label='Forecast')\n",
    "plt.xlabel('Date')\n",
    "plt.ylabel('Count')\n",
    "plt.title('LSTM Time Series Forecasting')\n",
    "plt.legend()\n",
    "plt.show()\n"
   ]
  },
  {
   "cell_type": "markdown",
   "id": "3bf9422d",
   "metadata": {
    "papermill": {
     "duration": 0.063098,
     "end_time": "2023-07-04T17:31:46.572512",
     "exception": false,
     "start_time": "2023-07-04T17:31:46.509414",
     "status": "completed"
    },
    "tags": []
   },
   "source": [
    "The code starts to exexute by data preparation. It converts the 'Count' column in the 'time_series' DataFrame to float and reshapes it. Once this transformation is done, normalization is applied on the data using MinMaxScaler to ensure it falls within the range of 0 to 1. Next, train - test split is done on the data, with 80% for training data and 20% for testing data. In training data, the input sequences and corresponding target values are created based on a specified look-back period. The LSTM model is implemented using Keras library, consisting of two LSTM layers and a dense output layer. The optimizer used for the training data is Adam optimizer and mean squared error loss function. For testing data, input sequences are prepared for the test data. This model makes a prediction for the target values for the test data, which are further transformed back to the original scale. The test data and predictions are then shrortened to match the length of the original time series data. Finally, the forecasted and actual values are visualized."
   ]
  },
  {
   "cell_type": "markdown",
   "id": "e4325029",
   "metadata": {
    "papermill": {
     "duration": 0.063245,
     "end_time": "2023-07-04T17:31:46.700399",
     "exception": false,
     "start_time": "2023-07-04T17:31:46.637154",
     "status": "completed"
    },
    "tags": []
   },
   "source": [
    "<h3><center><span style=\"color:black\">Conclusion </span></center></h3>\n",
    "\n",
    "In conclusion, we have demonstrated how two time series forecasting models: LSTM and ARIMA, can predict complex patterns within the given data. While we do not get a high accuracy which could be because of limited data points each of these models have their advantages and drawbacks. LSTM excels in capturing long-term dependencies and ARIMA provides a more interpretable framework. By the help of these models, ew have gained certain significant insights and can be more prepared as to what we can expect in the future.\n"
   ]
  },
  {
   "cell_type": "markdown",
   "id": "b001420c",
   "metadata": {
    "papermill": {
     "duration": 0.061989,
     "end_time": "2023-07-04T17:31:46.825478",
     "exception": false,
     "start_time": "2023-07-04T17:31:46.763489",
     "status": "completed"
    },
    "tags": []
   },
   "source": [
    "<h3><center><span style=\"color:black\">Future Work</span></center></h3>\n",
    "\n",
    "While we have covered forecasting based on LSTM and ARIMA, during our research, we also came across a new model called “Prophet” which is a forecasting model developed by Facebook's Data Science team. It captures the seasonality, trends, and holiday effects in the data by combining the strengths of additive decomposition models and generalized additive models (GAMs). This model takes care of domain-specific knowledge and provides automated changepoint detection, making it a significant tool for forecasting.\n",
    "\n",
    "\n",
    "\n",
    "The progress of Time Series Analysis has been instrumental to the fields of Artificial Intelligence and Data Science. The integration of analysis with algorithms has enhanced predictions, making them more robust and accurate. We have seen a significant rise in the quality of anomaly detection, decision making, and many other problems that require pattern recognition. Additionally, hybrid models which combine deep learning and time series forecasting yield better and more reliable results. Exploration and interpretation of time series models will be crucial in building trust in technology. Futhermore, this helps in giving more personalized results. Overall, this is a very promising domain and it continues to shape the landscape of systems across diverse industries.\n"
   ]
  },
  {
   "cell_type": "markdown",
   "id": "b72b6ba5",
   "metadata": {
    "papermill": {
     "duration": 0.063199,
     "end_time": "2023-07-04T17:31:46.951380",
     "exception": false,
     "start_time": "2023-07-04T17:31:46.888181",
     "status": "completed"
    },
    "tags": []
   },
   "source": [
    "<h3><center> References </center></h3>"
   ]
  },
  {
   "cell_type": "markdown",
   "id": "a39a4d4e",
   "metadata": {
    "papermill": {
     "duration": 0.063817,
     "end_time": "2023-07-04T17:31:47.080699",
     "exception": false,
     "start_time": "2023-07-04T17:31:47.016882",
     "status": "completed"
    },
    "tags": []
   },
   "source": [
    "- R. H. Shumway and D. S. Stoffer, \"Time Series Analysis and Its Applications,\" in IEEE Signal Processing Magazine, Nov. 1997, doi: 10.1109/79.641978.\n",
    "- D. C. Montgomery, C. L. Jennings and M. Kulahci, \"Introduction to Time Series Analysis and Forecasting,\" in IEEE Potentials, March-April 2015, doi: 10.1109/MPOT.2014.2377582.\n",
    "- 'ARIMA vs Prophet vs LSTM for Time Series Prediction', Neptune.ai, https://neptune.ai/blog/arima-vs-prophet-vs-lstm (Apr 28, 2022)\n",
    "- A. Nielsen, Oreilly, 'Practical Time Series Analysis by Aileen Nielsen', https://www.oreilly.com/library/view/practical-time-series/9781492041641/ch01.html (Jun 29, 2022)\n",
    "- F. Yu, 'A Thorough Guide to Time Series Analysis', towardsdatascience, https://towardsdatascience.com/a-thorough-guide-to-time-series-analysis-5439c63bc9c5 (May 24, 2022)\n",
    "- M. Pietro, 'Time Series Analysis for Machine Learning', towardsdatascience https://towardsdatascience.com/time-series-analysis-for-machine-learning-with-python-626bee0d0205 (Sep 20,2022)"
   ]
  }
 ],
 "metadata": {
  "kernelspec": {
   "display_name": "Python 3",
   "language": "python",
   "name": "python3"
  },
  "language_info": {
   "codemirror_mode": {
    "name": "ipython",
    "version": 3
   },
   "file_extension": ".py",
   "mimetype": "text/x-python",
   "name": "python",
   "nbconvert_exporter": "python",
   "pygments_lexer": "ipython3",
   "version": "3.10.10"
  },
  "papermill": {
   "default_parameters": {},
   "duration": 175.886547,
   "end_time": "2023-07-04T17:31:50.617629",
   "environment_variables": {},
   "exception": null,
   "input_path": "__notebook__.ipynb",
   "output_path": "__notebook__.ipynb",
   "parameters": {},
   "start_time": "2023-07-04T17:28:54.731082",
   "version": "2.4.0"
  }
 },
 "nbformat": 4,
 "nbformat_minor": 5
}
